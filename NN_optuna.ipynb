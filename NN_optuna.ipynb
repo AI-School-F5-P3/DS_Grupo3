{
  "cells": [
    {
      "cell_type": "code",
      "execution_count": 6,
      "metadata": {
        "id": "y3H0varQxkHN"
      },
      "outputs": [],
      "source": [
        "import numpy as np\n",
        "import pandas as pd\n",
        "import tensorflow as tf\n",
        "from tensorflow import keras\n",
        "from sklearn.model_selection import train_test_split\n",
        "import optuna\n"
      ]
    },
    {
      "cell_type": "code",
      "execution_count": 7,
      "metadata": {
        "colab": {
          "base_uri": "https://localhost:8080/"
        },
        "id": "D0PsBljMxlIs",
        "outputId": "06690abb-6526-4517-ec93-bf02b709c08d"
      },
      "outputs": [
        {
          "name": "stdout",
          "output_type": "stream",
          "text": [
            "Mounted at /content/drive\n"
          ]
        }
      ],
      "source": [
        "\n",
        "data = pd.read_csv('data/cleaned_dataset4.csv')"
      ]
    },
    {
      "cell_type": "code",
      "execution_count": 8,
      "metadata": {
        "id": "WdQxlJ3I1NHf"
      },
      "outputs": [],
      "source": [
        "# Convertir columnas booleanas a enteros (0 y 1)\n",
        "bool_columns = data.select_dtypes(include=['bool']).columns\n",
        "data[bool_columns] = data[bool_columns].astype(int)\n",
        "\n",
        "# Comprobar y convertir a numérico\n",
        "data = data.apply(pd.to_numeric, errors='coerce')\n",
        "data = data.dropna()  # Eliminar filas con NaN"
      ]
    },
    {
      "cell_type": "code",
      "execution_count": 9,
      "metadata": {
        "id": "U9hT76tBxwz1"
      },
      "outputs": [],
      "source": [
        "X = data.iloc[:, :-1].values\n",
        "y = data.iloc[:, -1].values\n",
        "y = y.flatten()\n",
        "X_train, X_test, y_train, y_test = train_test_split(X, y, test_size=0.2, random_state=42)\n"
      ]
    },
    {
      "cell_type": "code",
      "execution_count": null,
      "metadata": {
        "colab": {
          "base_uri": "https://localhost:8080/"
        },
        "id": "vpm_pHPtyV5K",
        "outputId": "f1cc5206-e5eb-4de3-e358-c6f883006b22"
      },
      "outputs": [
        {
          "name": "stderr",
          "output_type": "stream",
          "text": [
            "[I 2024-10-09 10:53:30,283] A new study created in memory with name: no-name-d572d8b4-347d-474c-83b6-41dee2b54d0b\n",
            "[I 2024-10-09 10:53:40,379] Trial 0 finished with value: 0.8173178434371948 and parameters: {'n_layers': 2, 'n_units': 7, 'activation': 'relu', 'dropout_rate': 0.1466502833520446, 'batch_size': 78, 'epochs': 26}. Best is trial 0 with value: 0.8173178434371948.\n",
            "[I 2024-10-09 10:53:54,380] Trial 1 finished with value: 0.8738120198249817 and parameters: {'n_layers': 2, 'n_units': 83, 'activation': 'tanh', 'dropout_rate': 0.04321445191845408, 'batch_size': 101, 'epochs': 46}. Best is trial 1 with value: 0.8738120198249817.\n",
            "[I 2024-10-09 10:54:06,642] Trial 2 finished with value: 0.8062301874160767 and parameters: {'n_layers': 1, 'n_units': 29, 'activation': 'tanh', 'dropout_rate': 0.33831427894435867, 'batch_size': 74, 'epochs': 38}. Best is trial 1 with value: 0.8738120198249817.\n",
            "[I 2024-10-09 10:54:12,264] Trial 3 finished with value: 0.8321013450622559 and parameters: {'n_layers': 1, 'n_units': 66, 'activation': 'relu', 'dropout_rate': 0.36698196347705936, 'batch_size': 103, 'epochs': 30}. Best is trial 1 with value: 0.8738120198249817.\n",
            "[I 2024-10-09 10:54:35,707] Trial 4 finished with value: 0.7993664145469666 and parameters: {'n_layers': 1, 'n_units': 6, 'activation': 'tanh', 'dropout_rate': 0.48934254025973234, 'batch_size': 18, 'epochs': 30}. Best is trial 1 with value: 0.8738120198249817.\n",
            "[I 2024-10-09 10:54:41,987] Trial 5 finished with value: 0.8009503483772278 and parameters: {'n_layers': 3, 'n_units': 90, 'activation': 'tanh', 'dropout_rate': 0.3509928202790372, 'batch_size': 124, 'epochs': 16}. Best is trial 1 with value: 0.8738120198249817.\n",
            "[I 2024-10-09 10:54:48,480] Trial 6 finished with value: 0.8020063638687134 and parameters: {'n_layers': 2, 'n_units': 33, 'activation': 'tanh', 'dropout_rate': 0.4819354699271597, 'batch_size': 90, 'epochs': 17}. Best is trial 1 with value: 0.8738120198249817.\n",
            "[I 2024-10-09 10:55:01,899] Trial 7 finished with value: 0.8273495435714722 and parameters: {'n_layers': 1, 'n_units': 38, 'activation': 'tanh', 'dropout_rate': 0.03217324316971554, 'batch_size': 66, 'epochs': 43}. Best is trial 1 with value: 0.8738120198249817.\n",
            "[I 2024-10-09 10:55:09,351] Trial 8 finished with value: 0.8035902976989746 and parameters: {'n_layers': 2, 'n_units': 39, 'activation': 'sigmoid', 'dropout_rate': 0.1605566912204524, 'batch_size': 97, 'epochs': 26}. Best is trial 1 with value: 0.8738120198249817.\n",
            "[I 2024-10-09 10:55:22,755] Trial 9 finished with value: 0.804118275642395 and parameters: {'n_layers': 2, 'n_units': 89, 'activation': 'sigmoid', 'dropout_rate': 0.38726083654471605, 'batch_size': 96, 'epochs': 41}. Best is trial 1 with value: 0.8738120198249817.\n",
            "[I 2024-10-09 10:55:28,718] Trial 10 finished with value: 0.8944033980369568 and parameters: {'n_layers': 3, 'n_units': 121, 'activation': 'relu', 'dropout_rate': 0.005464797119856646, 'batch_size': 51, 'epochs': 7}. Best is trial 10 with value: 0.8944033980369568.\n",
            "[I 2024-10-09 10:55:59,038] Trial 11 finished with value: 0.9118268489837646 and parameters: {'n_layers': 3, 'n_units': 128, 'activation': 'relu', 'dropout_rate': 0.005439170925807667, 'batch_size': 44, 'epochs': 49}. Best is trial 11 with value: 0.9118268489837646.\n",
            "[I 2024-10-09 10:56:05,658] Trial 12 finished with value: 0.8901795148849487 and parameters: {'n_layers': 3, 'n_units': 128, 'activation': 'relu', 'dropout_rate': 0.12075173329249965, 'batch_size': 39, 'epochs': 8}. Best is trial 11 with value: 0.9118268489837646.\n",
            "[I 2024-10-09 10:56:37,774] Trial 13 finished with value: 0.9134107828140259 and parameters: {'n_layers': 3, 'n_units': 128, 'activation': 'relu', 'dropout_rate': 0.003966245957404505, 'batch_size': 44, 'epochs': 50}. Best is trial 13 with value: 0.9134107828140259.\n",
            "[I 2024-10-09 10:57:16,821] Trial 14 finished with value: 0.9171066284179688 and parameters: {'n_layers': 3, 'n_units': 109, 'activation': 'relu', 'dropout_rate': 0.09487732683305718, 'batch_size': 33, 'epochs': 50}. Best is trial 14 with value: 0.9171066284179688.\n",
            "[I 2024-10-09 10:58:19,617] Trial 15 finished with value: 0.910770833492279 and parameters: {'n_layers': 3, 'n_units': 108, 'activation': 'relu', 'dropout_rate': 0.24220466084311676, 'batch_size': 19, 'epochs': 50}. Best is trial 14 with value: 0.9171066284179688.\n",
            "[I 2024-10-09 10:58:45,630] Trial 16 finished with value: 0.9160506725311279 and parameters: {'n_layers': 3, 'n_units': 104, 'activation': 'relu', 'dropout_rate': 0.11493552455754238, 'batch_size': 34, 'epochs': 36}. Best is trial 14 with value: 0.9171066284179688.\n",
            "[I 2024-10-09 10:59:17,657] Trial 17 finished with value: 0.910770833492279 and parameters: {'n_layers': 3, 'n_units': 105, 'activation': 'relu', 'dropout_rate': 0.09029851442708237, 'batch_size': 30, 'epochs': 36}. Best is trial 14 with value: 0.9171066284179688.\n",
            "[I 2024-10-09 10:59:33,923] Trial 18 finished with value: 0.8152059316635132 and parameters: {'n_layers': 3, 'n_units': 68, 'activation': 'sigmoid', 'dropout_rate': 0.20966595562731966, 'batch_size': 55, 'epochs': 34}. Best is trial 14 with value: 0.9171066284179688.\n"
          ]
        }
      ],
      "source": [
        "def objective(trial):\n",
        "    n_layers = trial.suggest_int('n_layers', 1, 3)  # Número de capas ocultas\n",
        "    n_units = trial.suggest_int('n_units', 4, 128)   # Número de neuronas por capa\n",
        "    activation = trial.suggest_categorical('activation', ['relu', 'tanh', 'sigmoid'])  # Funciones de activación\n",
        "    dropout_rate = trial.suggest_float('dropout_rate', 0.0, 0.5)  # Tasa de dropout\n",
        "    batch_size = trial.suggest_int('batch_size', 16, 128)  # Tamaño del lote\n",
        "    epochs = trial.suggest_int('epochs', 5, 50)  # Número de épocas\n",
        "\n",
        "    # Crear el modelo\n",
        "    model = keras.Sequential()\n",
        "    model.add(keras.layers.Input(shape=(X_train.shape[1],)))\n",
        "\n",
        "    for _ in range(n_layers):\n",
        "        model.add(keras.layers.Dense(n_units, activation=activation))\n",
        "        model.add(keras.layers.Dropout(dropout_rate))\n",
        "\n",
        "    model.add(keras.layers.Dense(1, activation='sigmoid'))\n",
        "\n",
        "    model.compile(optimizer='adam', loss='binary_crossentropy', metrics=['accuracy'])\n",
        "\n",
        "    model.fit(X_train, y_train, epochs=epochs, batch_size=batch_size, verbose=0)\n",
        "\n",
        "    accuracy = model.evaluate(X_test, y_test, verbose=0)[1]\n",
        "    return accuracy\n",
        "\n",
        "\n",
        "study = optuna.create_study(direction='maximize')\n",
        "study.optimize(objective, n_trials=50)\n",
        "\n",
        "print(\"Mejores hiperparámetros: \", study.best_params)\n",
        "print(\"Mejor precisión: \", study.best_value)"
      ]
    }
  ],
  "metadata": {
    "accelerator": "TPU",
    "colab": {
      "gpuType": "V28",
      "provenance": []
    },
    "kernelspec": {
      "display_name": "Python 3",
      "name": "python3"
    },
    "language_info": {
      "name": "python"
    }
  },
  "nbformat": 4,
  "nbformat_minor": 0
}
