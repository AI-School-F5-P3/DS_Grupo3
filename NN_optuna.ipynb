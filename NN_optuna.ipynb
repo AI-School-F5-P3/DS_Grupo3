{
  "cells": [
    {
      "cell_type": "code",
      "execution_count": 9,
      "metadata": {
        "id": "y3H0varQxkHN"
      },
      "outputs": [],
      "source": [
        "import numpy as np\n",
        "import pandas as pd\n",
        "import tensorflow as tf\n",
        "from tensorflow import keras\n",
        "from sklearn.model_selection import train_test_split\n",
        "import optuna\n"
      ]
    },
    {
      "cell_type": "code",
      "execution_count": 10,
      "metadata": {
        "colab": {
          "base_uri": "https://localhost:8080/"
        },
        "id": "D0PsBljMxlIs",
        "outputId": "06690abb-6526-4517-ec93-bf02b709c08d"
      },
      "outputs": [],
      "source": [
        "\n",
        "data = pd.read_csv('data/stroke_woe_smote.csv')"
      ]
    },
    {
      "cell_type": "code",
      "execution_count": 11,
      "metadata": {
        "id": "WdQxlJ3I1NHf"
      },
      "outputs": [],
      "source": [
        "# Convertir columnas booleanas a enteros (0 y 1)\n",
        "bool_columns = data.select_dtypes(include=['bool']).columns\n",
        "data[bool_columns] = data[bool_columns].astype(int)\n",
        "\n",
        "# Comprobar y convertir a numérico\n",
        "data = data.apply(pd.to_numeric, errors='coerce')\n",
        "data = data.dropna()  # Eliminar filas con NaN"
      ]
    },
    {
      "cell_type": "code",
      "execution_count": 12,
      "metadata": {
        "id": "U9hT76tBxwz1"
      },
      "outputs": [],
      "source": [
        "X = data.iloc[:, :-1].values\n",
        "y = data.iloc[:, -1].values\n",
        "y = y.flatten()\n",
        "X_train, X_test, y_train, y_test = train_test_split(X, y, test_size=0.2, random_state=42)\n"
      ]
    },
    {
      "cell_type": "code",
      "execution_count": null,
      "metadata": {
        "colab": {
          "base_uri": "https://localhost:8080/"
        },
        "id": "vpm_pHPtyV5K",
        "outputId": "f1cc5206-e5eb-4de3-e358-c6f883006b22"
      },
      "outputs": [],
      "source": [
        "def objective(trial):\n",
        "    n_layers = trial.suggest_int('n_layers', 3, 7)  # Número de capas ocultas\n",
        "    n_units = trial.suggest_int('n_units', 256, 1024)   # Número de neuronas por capa\n",
        "    activation = trial.suggest_categorical('activation', ['relu'])  # Funciones de activación\n",
        "    dropout_rate = trial.suggest_float('dropout_rate', 0.0, 0.5)  # Tasa de dropout\n",
        "    batch_size = trial.suggest_int('batch_size', 32, 512)  # Tamaño del lote\n",
        "    epochs = trial.suggest_int('epochs', 100, 300)  # Número de épocas\n",
        "\n",
        "    # Crear el modelo\n",
        "    model = keras.Sequential()\n",
        "    model.add(keras.layers.Input(shape=(X_train.shape[1],)))\n",
        "\n",
        "    for _ in range(n_layers):\n",
        "        model.add(keras.layers.Dense(n_units, activation=activation))\n",
        "        model.add(keras.layers.Dropout(dropout_rate))\n",
        "\n",
        "    model.add(keras.layers.Dense(1, activation='sigmoid'))\n",
        "\n",
        "    model.compile(optimizer='adam', loss='binary_crossentropy', metrics=['accuracy'])\n",
        "\n",
        "    model.fit(X_train, y_train, epochs=epochs, batch_size=batch_size, verbose=0)\n",
        "\n",
        "    accuracy = model.evaluate(X_test, y_test, verbose=0)[1]\n",
        "    return accuracy\n",
        "\n",
        "\n",
        "study = optuna.create_study(direction='maximize')\n",
        "study.optimize(objective, n_trials=100)\n",
        "\n",
        "print(\"Mejores hiperparámetros: \", study.best_params)\n",
        "print(\"Mejor precisión: \", study.best_value)"
      ]
    }
  ],
  "metadata": {
    "accelerator": "TPU",
    "colab": {
      "gpuType": "V28",
      "provenance": []
    },
    "kernelspec": {
      "display_name": "Python 3",
      "name": "python3"
    },
    "language_info": {
      "codemirror_mode": {
        "name": "ipython",
        "version": 3
      },
      "file_extension": ".py",
      "mimetype": "text/x-python",
      "name": "python",
      "nbconvert_exporter": "python",
      "pygments_lexer": "ipython3",
      "version": "3.12.4"
    }
  },
  "nbformat": 4,
  "nbformat_minor": 0
}
