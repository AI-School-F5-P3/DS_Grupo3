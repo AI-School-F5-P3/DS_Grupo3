{
 "cells": [
  {
   "cell_type": "code",
   "execution_count": 17,
   "metadata": {},
   "outputs": [],
   "source": [
    "import warnings\n",
    "warnings.filterwarnings('ignore')\n",
    "\n",
    "import os\n",
    "import pandas as pd\n",
    "import numpy as np\n",
    "import matplotlib.pyplot as plt\n",
    "%matplotlib inline\n",
    "from sklearn.metrics import classification_report , confusion_matrix , accuracy_score\n",
    "from sklearn.model_selection import train_test_split\n",
    "\n",
    "import cv2\n",
    "#from google.colab.patches import cv2_imshow\n",
    "from PIL import Image \n",
    "import tensorflow as tf\n",
    "from tensorflow import keras\n",
    "from keras import Sequential\n",
    "from keras.layers import Input, Dense,Conv2D , MaxPooling2D, Flatten,BatchNormalization,Dropout\n",
    "from tensorflow.keras.preprocessing import image_dataset_from_directory"
   ]
  },
  {
   "cell_type": "code",
   "execution_count": 18,
   "metadata": {},
   "outputs": [
    {
     "name": "stdout",
     "output_type": "stream",
     "text": [
      "No se pueden cargar las imágenes porque las rutas no son válidas.\n"
     ]
    }
   ],
   "source": [
    "current_dir = os.getcwd()  # Cambia esto a la ruta base de tu proyecto si es necesario\n",
    "\n",
    "# Definir las rutas de las carpetas\n",
    "normal_path = os.path.join(current_dir, 'data', 'normal')\n",
    "stroke_path = os.path.join(current_dir, 'data', 'stroke')\n",
    "\n",
    "# Comprobar si las carpetas existen\n",
    "if os.path.exists(normal_path) and os.path.exists(stroke_path):\n",
    "    normal_folder = os.listdir(normal_path)\n",
    "    stroke_folder = os.listdir(stroke_path)\n",
    "\n",
    "    data = []\n",
    "\n",
    "    # Cargar imágenes de la carpeta Normal\n",
    "    for img_file in normal_folder:\n",
    "        try:\n",
    "            image = Image.open(os.path.join(normal_path, img_file)).resize((224, 224)).convert('RGB')\n",
    "            data.append(np.array(image))\n",
    "        except Exception as e:\n",
    "            print(f\"No se pudo abrir la imagen {img_file} en Normal: {e}\")\n",
    "\n",
    "    # Cargar imágenes de la carpeta Stroke\n",
    "    for img_file in stroke_folder:\n",
    "        try:\n",
    "            image = Image.open(os.path.join(stroke_path, img_file)).resize((224, 224)).convert('RGB')\n",
    "            data.append(np.array(image))\n",
    "        except Exception as e:\n",
    "            print(f\"No se pudo abrir la imagen {img_file} en Stroke: {e}\")\n",
    "\n",
    "    # Comprobar si se han cargado imágenes\n",
    "    if data:\n",
    "        print(f\"Se han cargado {len(data)} imágenes.\")\n",
    "    else:\n",
    "        print(\"No se han cargado imágenes.\")\n",
    "else:\n",
    "    print(\"No se pueden cargar las imágenes porque las rutas no son válidas.\")"
   ]
  },
  {
   "cell_type": "code",
   "execution_count": 10,
   "metadata": {},
   "outputs": [
    {
     "ename": "NameError",
     "evalue": "name 'normal_folder' is not defined",
     "output_type": "error",
     "traceback": [
      "\u001b[1;31m---------------------------------------------------------------------------\u001b[0m",
      "\u001b[1;31mNameError\u001b[0m                                 Traceback (most recent call last)",
      "Cell \u001b[1;32mIn[10], line 1\u001b[0m\n\u001b[1;32m----> 1\u001b[0m normal_label \u001b[38;5;241m=\u001b[39m [\u001b[38;5;241m0\u001b[39m]\u001b[38;5;241m*\u001b[39m\u001b[38;5;28mlen\u001b[39m(\u001b[43mnormal_folder\u001b[49m)\n\u001b[0;32m      2\u001b[0m stroke_label \u001b[38;5;241m=\u001b[39m [\u001b[38;5;241m1\u001b[39m]\u001b[38;5;241m*\u001b[39m\u001b[38;5;28mlen\u001b[39m(stroke_folder)\n\u001b[0;32m      4\u001b[0m Target_label \u001b[38;5;241m=\u001b[39m normal_label \u001b[38;5;241m+\u001b[39m stroke_label\n",
      "\u001b[1;31mNameError\u001b[0m: name 'normal_folder' is not defined"
     ]
    }
   ],
   "source": [
    "normal_label = [0]*len(normal_folder)\n",
    "stroke_label = [1]*len(stroke_folder)\n",
    "\n",
    "Target_label = normal_label + stroke_label\n",
    "len(Target_label)\n",
    "\n",
    "x = np.array(data)\n",
    "y = np.array(Target_label)"
   ]
  },
  {
   "cell_type": "code",
   "execution_count": null,
   "metadata": {},
   "outputs": [],
   "source": [
    "x_train,x_test,y_train,y_test = train_test_split(x,y,test_size=0.20,shuffle=True)\n",
    "print(x_train.shape)\n",
    "print(x_test.shape)\n",
    "print(y_train.shape)\n",
    "print(y_test.shape)"
   ]
  },
  {
   "cell_type": "code",
   "execution_count": null,
   "metadata": {},
   "outputs": [],
   "source": [
    "x_train_s = x_train/255\n",
    "x_test_s = x_test/255"
   ]
  },
  {
   "cell_type": "code",
   "execution_count": null,
   "metadata": {},
   "outputs": [],
   "source": [
    "model = Sequential()\n",
    "\n",
    "model.add(Conv2D(32,kernel_size=(3,3),strides=1,padding=\"valid\",activation=\"relu\", input_shape=(224,224,3)))\n",
    "model.add(MaxPooling2D(pool_size=2))\n",
    "\n",
    "model.add(Conv2D(64,kernel_size=(3,3),strides=1,padding=\"valid\",activation=\"relu\"))\n",
    "model.add(MaxPooling2D(pool_size=2))\n",
    "\n",
    "model.add(Conv2D(128,kernel_size=(3,3),strides=1,padding=\"valid\",activation=\"relu\"))\n",
    "model.add(MaxPooling2D(pool_size=2))\n",
    "\n",
    "model.add(Flatten())\n",
    "model.add(Dense(256, activation=\"relu\"))\n",
    "model.add(Dropout(0.2))\n",
    "model.add(Dense(128, activation=\"relu\"))\n",
    "model.add(Dropout(0.2))\n",
    "model.add(Dense(1, activation=\"sigmoid\"))\n",
    "\n",
    "model.compile(optimizer=\"adam\",loss=\"binary_crossentropy\",\n",
    "             metrics=[\"accuracy\"])\n",
    "\n",
    "model.summary()"
   ]
  },
  {
   "cell_type": "code",
   "execution_count": null,
   "metadata": {},
   "outputs": [],
   "source": [
    "history = model.fit(x_train_s,y_train,batch_size=32,\n",
    "         epochs=10, validation_data=(x_test_s,y_test))"
   ]
  },
  {
   "cell_type": "code",
   "execution_count": null,
   "metadata": {},
   "outputs": [],
   "source": [
    "loss, acc = model.evaluate(x_test_s,y_test)\n",
    "print(\"Loss on Test Set:\",loss)\n",
    "print(\"Accuracy on Test Set:\",acc)\n",
    "\n",
    "loss, acc = model.evaluate(x_train_s,y_train)\n",
    "print(\"Loss on Train Set:\",loss)\n",
    "print(\"Accuracy on Train Set:\",acc)"
   ]
  },
  {
   "cell_type": "code",
   "execution_count": null,
   "metadata": {},
   "outputs": [],
   "source": [
    "y_pred_test = model.predict(x_test_s)\n",
    "y_pred_test_label = [1 if i>=0.5 else 0 for i in y_pred_test]\n",
    "print(\"Actual Label:\",y_test[:10])\n",
    "print(\"Predicted Label:\",y_pred_test_label[:10])"
   ]
  },
  {
   "cell_type": "code",
   "execution_count": null,
   "metadata": {},
   "outputs": [],
   "source": [
    "print(\"-----Metrics Evaluation On Test Set -----\")\n",
    "print()\n",
    "print(\"Confusion Matrix:\\n\",confusion_matrix(y_test,y_pred_test_label))\n",
    "print()\n",
    "print(\"Classification Report:\\n\",classification_report(y_test,y_pred_test_label))"
   ]
  },
  {
   "cell_type": "code",
   "execution_count": null,
   "metadata": {},
   "outputs": [],
   "source": [
    "'''\n",
    "current_dir = os.path.dirname(os.path.abspath(__file__))\n",
    "model_path = os.path.join(current_dir, 'nn_stroke_img.keras')\n",
    "model.save_model(model_path)\n",
    "'''"
   ]
  }
 ],
 "metadata": {
  "kernelspec": {
   "display_name": "Python 3",
   "language": "python",
   "name": "python3"
  },
  "language_info": {
   "codemirror_mode": {
    "name": "ipython",
    "version": 3
   },
   "file_extension": ".py",
   "mimetype": "text/x-python",
   "name": "python",
   "nbconvert_exporter": "python",
   "pygments_lexer": "ipython3",
   "version": "3.12.4"
  }
 },
 "nbformat": 4,
 "nbformat_minor": 2
}
